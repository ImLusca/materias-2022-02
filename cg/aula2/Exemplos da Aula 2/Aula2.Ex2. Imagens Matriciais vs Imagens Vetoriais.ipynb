{
 "cells": [
  {
   "cell_type": "markdown",
   "metadata": {
    "id": "5oek3G8iYgpD"
   },
   "source": [
    "# Aula2.Ex2. Imagens Matriciais $\\times$ Imagens Vetoriais\n",
    "Na Aula 2, sobre conceitos envolvidos na Computação Gráfica, vemos que podemos explorar imagens no \"mundo\" vetorial e matricial. \n",
    "\n",
    "Imagens vetoriais são representadas por vértices e funções geométricas para \"construir\" a imagem. Na prática, isso significa que podemos aplicar transformações geométricas como escala, rotação e translação nesses objetos.\n",
    "\n",
    "Imagems matriciais, formadas por um conjunto de pixels, são uma amostra da imagem real. Nesse exercício veremos o efeito em mudar a escala (alterar o tamanho) em uma imagem matricial $\\times$ imagem vetorial."
   ]
  },
  {
   "cell_type": "markdown",
   "metadata": {
    "id": "Eb2xptosYgpd"
   },
   "source": [
    "## Carregar as bibliotecas necessárias para o exercício"
   ]
  },
  {
   "cell_type": "code",
   "execution_count": 1,
   "metadata": {
    "executionInfo": {
     "elapsed": 999,
     "status": "ok",
     "timestamp": 1618504472745,
     "user": {
      "displayName": "Ricardo Marcondes Marcacini",
      "photoUrl": "",
      "userId": "13689272637408260080"
     },
     "user_tz": 180
    },
    "id": "Voe1Qe7HYgpe"
   },
   "outputs": [],
   "source": [
    "from PIL import Image\n",
    "import requests\n",
    "from io import BytesIO\n",
    "from IPython.display import display # to display images"
   ]
  },
  {
   "cell_type": "markdown",
   "metadata": {
    "id": "c_3jP9XCYgpg"
   },
   "source": [
    "## Fazer o download de uma imagem da internet\n",
    "Tente trocar a URL por uma imagem de sua preferência."
   ]
  },
  {
   "cell_type": "code",
   "execution_count": 2,
   "metadata": {
    "colab": {
     "base_uri": "https://localhost:8080/",
     "height": 199
    },
    "executionInfo": {
     "elapsed": 3277,
     "status": "ok",
     "timestamp": 1618504475037,
     "user": {
      "displayName": "Ricardo Marcondes Marcacini",
      "photoUrl": "",
      "userId": "13689272637408260080"
     },
     "user_tz": 180
    },
    "id": "M9q6K77uYgpg",
    "outputId": "c16c4f1d-fbcc-4a01-dcd6-2e2da7e97ead"
   },
   "outputs": [
    {
     "data": {
      "image/png": "[encoded data removed]",
      "text/plain": [
       "<PIL.PngImagePlugin.PngImageFile image mode=P size=157x118>"
      ]
     },
     "metadata": {},
     "output_type": "display_data"
    }
   ],
   "source": [
    "url_imagem = 'https://encrypted-tbn0.gstatic.com/images?q=tbn:ANd9GcS98gs7wb-UEhmjhH8w92krYKmGB4lwSHyH_DKRJ6kQ&s'\n",
    "\n",
    "# lendo a imagem\n",
    "response = requests.get(url_imagem)\n",
    "img = Image.open(BytesIO(response.content))\n",
    "\n",
    "# exibindo a imagem\n",
    "display(img)"
   ]
  },
  {
   "cell_type": "markdown",
   "metadata": {
    "id": "Kl4UVUxGYgpj"
   },
   "source": [
    "## Aumentando a imagem em 10x o tamanho original\n"
   ]
  },
  {
   "cell_type": "code",
   "execution_count": 3,
   "metadata": {
    "colab": {
     "base_uri": "https://localhost:8080/",
     "height": 1000
    },
    "executionInfo": {
     "elapsed": 3268,
     "status": "ok",
     "timestamp": 1618504475038,
     "user": {
      "displayName": "Ricardo Marcondes Marcacini",
      "photoUrl": "",
      "userId": "13689272637408260080"
     },
     "user_tz": 180
    },
    "id": "i57lJLeyYgpj",
    "outputId": "86435b35-b4e0-4d90-a976-7cc0852e9709"
   },
   "outputs": [
    {
     "data": {
      "image/png": "[encoded data removed]",
      "text/plain": [
       "<PIL.Image.Image image mode=P size=1570x1180>"
      ]
     },
     "metadata": {},
     "output_type": "display_data"
    }
   ],
   "source": [
    "# informacoes da imagem\n",
    "largura = img.size[0]\n",
    "altura = img.size[1]\n",
    "\n",
    "img = img.resize((largura*10,altura*10)) # aumentando 10x\n",
    "\n",
    "\n",
    "# exibindo a imagem\n",
    "display(img)"
   ]
  },
  {
   "cell_type": "markdown",
   "metadata": {
    "id": "siM_92q6Ygpk"
   },
   "source": [
    "## Resultado\n",
    "Observe que a imagem perdeu a qualidade, apresentando serrilhados. Lembre que pixeis são apenas amostras da imagem original. Para aumentá-la, foi necessário estimar pixeis a partir da amostra."
   ]
  },
  {
   "cell_type": "markdown",
   "metadata": {
    "id": "ytZb5i4sYgpl"
   },
   "source": [
    "## Imagens vetoriais\n",
    "\n",
    "Repetimos o processo para uma imagem em formato vetorial. Nesse caso, precisamos \"renderizar\" a imagem para o formato matricial antes de sua exibição.\n",
    "\n",
    "Primeiro, instalemos algumas bibliotecas."
   ]
  },
  {
   "cell_type": "code",
   "execution_count": 5,
   "metadata": {
    "colab": {
     "base_uri": "https://localhost:8080/"
    },
    "executionInfo": {
     "elapsed": 11238,
     "status": "ok",
     "timestamp": 1618504483016,
     "user": {
      "displayName": "Ricardo Marcondes Marcacini",
      "photoUrl": "",
      "userId": "13689272637408260080"
     },
     "user_tz": 180
    },
    "id": "ZI7p2gX4Ygpm",
    "outputId": "8464fa37-0646-4536-a5c7-79300bd3334e"
   },
   "outputs": [
    {
     "name": "stdout",
     "output_type": "stream",
     "text": [
      "Defaulting to user installation because normal site-packages is not writeable\n",
      "Collecting svglib\n",
      "  Downloading svglib-1.4.1.tar.gz (913 kB)\n",
      "\u001b[2K     \u001b[38;2;114;156;31m━━━━━━━━━━━━━━━━━━━━━━━━━━━━━━━━━━━━━━━\u001b[0m \u001b[32m913.0/913.0 kB\u001b[0m \u001b[31m7.1 MB/s\u001b[0m eta \u001b[36m0:00:00\u001b[0mm eta \u001b[36m0:00:01\u001b[0m0:01\u001b[0m\n",
      "\u001b[?25h  Preparing metadata (setup.py) ... \u001b[?25ldone\n",
      "\u001b[?25hCollecting cssselect2>=0.2.0\n",
      "  Downloading cssselect2-0.6.0-py3-none-any.whl (15 kB)\n",
      "Requirement already satisfied: lxml in /home/lusca/.local/lib/python3.8/site-packages (from svglib) (4.9.1)\n",
      "Requirement already satisfied: reportlab in /usr/lib/python3/dist-packages (from svglib) (3.5.34)\n",
      "Requirement already satisfied: tinycss2>=0.6.0 in /usr/lib/python3/dist-packages (from svglib) (1.0.2)\n",
      "Requirement already satisfied: webencodings in /usr/lib/python3/dist-packages (from cssselect2>=0.2.0->svglib) (0.5.1)\n",
      "Building wheels for collected packages: svglib\n",
      "  Building wheel for svglib (setup.py) ... \u001b[?25ldone\n",
      "\u001b[?25h  Created wheel for svglib: filename=svglib-1.4.1-py3-none-any.whl size=30753 sha256=34014adc07075da785a4d27171d996be9d9c2a17b4376465c9fd7c2652544688\n",
      "  Stored in directory: /home/lusca/.cache/pip/wheels/82/5f/92/df7a2898228d8e7d47b56b746083e2435fabb6cc2cd8e82a9b\n",
      "Successfully built svglib\n",
      "Installing collected packages: cssselect2, svglib\n",
      "Successfully installed cssselect2-0.6.0 svglib-1.4.1\n"
     ]
    }
   ],
   "source": [
    "#!pip install svglib\n",
    "from svglib.svglib import svg2rlg\n",
    "from reportlab.graphics import renderPDF\n",
    "from IPython.core.display import HTML"
   ]
  },
  {
   "cell_type": "markdown",
   "metadata": {
    "id": "_fLe5uxyYgpn"
   },
   "source": [
    "Agora salvamos uma imagem a partir de uma URL da internet.\n",
    "Nesse exemplo, usamos o logo do ICMC/USP em formato vetorial. Pesquise sobre o formato SVG."
   ]
  },
  {
   "cell_type": "code",
   "execution_count": 8,
   "metadata": {
    "executionInfo": {
     "elapsed": 11237,
     "status": "ok",
     "timestamp": 1618504483018,
     "user": {
      "displayName": "Ricardo Marcondes Marcacini",
      "photoUrl": "",
      "userId": "13689272637408260080"
     },
     "user_tz": 180
    },
    "id": "sDfuTgvuYgpn"
   },
   "outputs": [],
   "source": [
    "url_imagem = 'https://upload.wikimedia.org/wikipedia/commons/c/c9/Webysther_20170627_-_Logo_ICMC-USP.svg'\n",
    "\n",
    "# lendo a imagem\n",
    "#with open('imagem.svg', \"wb\") as file:\n",
    "#    response = requests.get(url_imagem)\n",
    "#    file.write(response.content)\n",
    "            \n",
    "\n",
    "img_svg = svg2rlg('imagem.svg')"
   ]
  },
  {
   "cell_type": "markdown",
   "metadata": {
    "id": "fiA2WWP3Ygpo"
   },
   "source": [
    "Exibindo a imagem com largura de 200 pixeis."
   ]
  },
  {
   "cell_type": "code",
   "execution_count": 9,
   "metadata": {
    "colab": {
     "base_uri": "https://localhost:8080/",
     "height": 0
    },
    "executionInfo": {
     "elapsed": 11229,
     "status": "ok",
     "timestamp": 1618504483020,
     "user": {
      "displayName": "Ricardo Marcondes Marcacini",
      "photoUrl": "",
      "userId": "13689272637408260080"
     },
     "user_tz": 180
    },
    "id": "RKz9eA_DYgpo",
    "outputId": "c19d3b93-d070-4562-c8ef-f52d8cf6d627"
   },
   "outputs": [
    {
     "data": {
      "text/html": [
       "<img src=\"imagem.svg\" width=\"200\">"
      ],
      "text/plain": [
       "<IPython.core.display.HTML object>"
      ]
     },
     "execution_count": 9,
     "metadata": {},
     "output_type": "execute_result"
    }
   ],
   "source": [
    "# exibindo a imagem\n",
    "HTML('<img src=\"imagem.svg\" width=\"200\">')"
   ]
  },
  {
   "cell_type": "markdown",
   "metadata": {
    "id": "EcB7cqWUYgpp"
   },
   "source": [
    "Exibindo a imagem com largura de 400 pixeis."
   ]
  },
  {
   "cell_type": "code",
   "execution_count": null,
   "metadata": {
    "colab": {
     "base_uri": "https://localhost:8080/",
     "height": 34
    },
    "executionInfo": {
     "elapsed": 11224,
     "status": "ok",
     "timestamp": 1618504483022,
     "user": {
      "displayName": "Ricardo Marcondes Marcacini",
      "photoUrl": "",
      "userId": "13689272637408260080"
     },
     "user_tz": 180
    },
    "id": "eo8yOhSNYgpq",
    "outputId": "114ef329-e894-4c5d-a6bf-d609894b868e"
   },
   "outputs": [],
   "source": [
    "HTML('<img src=\"imagem.svg\" width=\"400\">')"
   ]
  },
  {
   "cell_type": "markdown",
   "metadata": {
    "id": "iKI5ELuRYgpq"
   },
   "source": [
    "Exibindo a imagem com largura de 800 pixeis."
   ]
  },
  {
   "cell_type": "code",
   "execution_count": 10,
   "metadata": {
    "colab": {
     "base_uri": "https://localhost:8080/",
     "height": 34
    },
    "executionInfo": {
     "elapsed": 11212,
     "status": "ok",
     "timestamp": 1618504483023,
     "user": {
      "displayName": "Ricardo Marcondes Marcacini",
      "photoUrl": "",
      "userId": "13689272637408260080"
     },
     "user_tz": 180
    },
    "id": "rOBiNMvlYgpr",
    "outputId": "796c0050-5dc0-4adf-a913-ffc5c5452e96"
   },
   "outputs": [
    {
     "data": {
      "text/html": [
       "<img src=\"imagem.svg\" width=\"800\">"
      ],
      "text/plain": [
       "<IPython.core.display.HTML object>"
      ]
     },
     "execution_count": 10,
     "metadata": {},
     "output_type": "execute_result"
    }
   ],
   "source": [
    "HTML('<img src=\"imagem.svg\" width=\"800\">')"
   ]
  },
  {
   "cell_type": "markdown",
   "metadata": {
    "id": "chUd8B01Ygpr"
   },
   "source": [
    "Exibindo a imagem com largura de 2000 pixeis.\n",
    "\n",
    "Observe que a imagem não \"perde\" qualidade e virtualmente podemos usar qualquer dimensão para sua exibição."
   ]
  },
  {
   "cell_type": "code",
   "execution_count": 11,
   "metadata": {
    "colab": {
     "base_uri": "https://localhost:8080/",
     "height": 54
    },
    "executionInfo": {
     "elapsed": 11204,
     "status": "ok",
     "timestamp": 1618504483025,
     "user": {
      "displayName": "Ricardo Marcondes Marcacini",
      "photoUrl": "",
      "userId": "13689272637408260080"
     },
     "user_tz": 180
    },
    "id": "pKMS3xZ2Ygps",
    "outputId": "aa11da2a-66dd-4e99-b5c0-f82d09f9ddf1"
   },
   "outputs": [
    {
     "data": {
      "text/html": [
       "<img src=\"imagem.svg\" width=\"2000\">"
      ],
      "text/plain": [
       "<IPython.core.display.HTML object>"
      ]
     },
     "execution_count": 11,
     "metadata": {},
     "output_type": "execute_result"
    }
   ],
   "source": [
    "HTML('<img src=\"imagem.svg\" width=\"2000\">')"
   ]
  },
  {
   "cell_type": "code",
   "execution_count": null,
   "metadata": {},
   "outputs": [],
   "source": []
  }
 ],
 "metadata": {
  "colab": {
   "name": "Aula01.Ex02. Imagens Matriciais vs Imagens Vetoriais.ipynb",
   "provenance": []
  },
  "kernelspec": {
   "display_name": "Python 3 (ipykernel)",
   "language": "python",
   "name": "python3"
  },
  "language_info": {
   "codemirror_mode": {
    "name": "ipython",
    "version": 3
   },
   "file_extension": ".py",
   "mimetype": "text/x-python",
   "name": "python",
   "nbconvert_exporter": "python",
   "pygments_lexer": "ipython3",
   "version": "3.8.10"
  }
 },
 "nbformat": 4,
 "nbformat_minor": 1
}
